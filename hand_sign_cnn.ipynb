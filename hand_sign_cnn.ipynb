{
 "cells": [
  {
   "cell_type": "markdown",
   "metadata": {
    "id": "sRl6nPEaRhSU"
   },
   "source": [
    "<a href='click'><img src='https://analyticsindiamag.com/wp-content/uploads/2020/06/american_sign_language-768x429.png'/></a>\n",
    "\n",
    "<center><em><br><b>Hands-On Guide To Sign Language Classification Using CNN</b>    <br>by Soumen Das</em></center>"
   ]
  },
  {
   "cell_type": "markdown",
   "metadata": {
    "id": "mjjkMEO9_Mzl"
   },
   "source": [
    "<b>Sign Language MNIST</b>\n",
    "Drop-In Replacement for MNIST for Hand Gesture Recognition Tasks\n",
    "\n",
    "The dataset format is patterned to match closely with the classic MNIST. Each training and test case represents a label (0-25) as a one-to-one map for each alphabetic letter A-Z (and no cases for 9=J or 25=Z because of gesture motions). The training data (27,455 cases) and test data (7172 cases) are approximately half the size of the standard MNIST but otherwise similar with a header row of label, pixel1,pixel2….pixel784 which represent a single 28x28 pixel image with grayscale values between 0-255. The original hand gesture <a href=\"https://github.com/mon95/Sign-Language-and-Static-gesture-recognition-using-sklearn\">image data</a>      represented multiple users repeating the gesture against different backgrounds. The Sign Language MNIST data came from greatly extending the small number (1704) of the color images included as not cropped around the hand region of interest.\n",
    "\n",
    "\n",
    "<a href=\"https://www.kaggle.com/datamunge/sign-language-mnist\">DATASET</a>,To stimulate the community to develop more drop-in replacements the Sign Language MNIST is presented here and follows the same CSV format with labels and pixel values in single rows. The American Sign Language letter database of hand gestures represent a multi-class problem with 24 classes of letters (excluding J and Z which require motion)."
   ]
  },
  {
   "cell_type": "markdown",
   "metadata": {
    "id": "ecAz9v-fSeNJ"
   },
   "source": [
    "**MOUNT THE DATA SET**\n",
    "the data ,I have downloaded and upload to my drive"
   ]
  },
  {
   "cell_type": "code",
   "execution_count": 1,
   "metadata": {
    "colab": {
     "base_uri": "https://localhost:8080/"
    },
    "id": "Qc4-tNXHPd6d",
    "outputId": "198efb2e-6495-4144-b322-e8aad4d3c565"
   },
   "outputs": [
    {
     "data": {
      "text/plain": [
       "\"from google.colab import drive\\ndrive.mount('/content/drive')\""
      ]
     },
     "execution_count": 1,
     "metadata": {},
     "output_type": "execute_result"
    }
   ],
   "source": [
    "\"\"\"from google.colab import drive\n",
    "drive.mount('/content/drive')\"\"\""
   ]
  },
  {
   "cell_type": "code",
   "execution_count": 2,
   "metadata": {
    "colab": {
     "base_uri": "https://localhost:8080/"
    },
    "id": "thAizDs3Szz_",
    "outputId": "41d8a1c0-1368-4fbb-fe95-5dc9dde3a9b4"
   },
   "outputs": [
    {
     "data": {
      "text/plain": [
       "'!unzip \"/content/drive/MyDrive/archive (1).zip\" -d \"/content/\" '"
      ]
     },
     "execution_count": 2,
     "metadata": {},
     "output_type": "execute_result"
    }
   ],
   "source": [
    "\"\"\"!unzip \"/content/drive/MyDrive/archive (1).zip\" -d \"/content/\" \"\"\""
   ]
  },
  {
   "cell_type": "code",
   "execution_count": 3,
   "metadata": {
    "id": "YIJI4wYrS7mC"
   },
   "outputs": [],
   "source": [
    "import pandas as pd\n",
    "import numpy as np\n",
    "import tensorflow as tf\n",
    "\n",
    "from tensorflow.keras.models import Sequential\n",
    "from tensorflow.keras.layers import Conv2D, MaxPooling2D,  BatchNormalization\n",
    "from tensorflow.keras.layers import Activation, Dropout, Flatten, Dense\n",
    "\n",
    "from tensorflow.keras.preprocessing.image import ImageDataGenerator\n",
    "from keras.preprocessing import image  #image module helps to load image\n",
    "\n",
    "from keras.models import load_model\n",
    "from keras.models import model_from_json"
   ]
  },
  {
   "cell_type": "code",
   "execution_count": 4,
   "metadata": {
    "id": "2_KwT_oSS7yL"
   },
   "outputs": [],
   "source": [
    "train_data=pd.read_csv('sign_mnist_train.csv')"
   ]
  },
  {
   "cell_type": "code",
   "execution_count": 5,
   "metadata": {
    "colab": {
     "base_uri": "https://localhost:8080/",
     "height": 408
    },
    "id": "f8_SFGRfS71l",
    "outputId": "e2b6fd80-9571-4740-fa41-61353721e13e"
   },
   "outputs": [
    {
     "data": {
      "text/html": [
       "<div>\n",
       "<style scoped>\n",
       "    .dataframe tbody tr th:only-of-type {\n",
       "        vertical-align: middle;\n",
       "    }\n",
       "\n",
       "    .dataframe tbody tr th {\n",
       "        vertical-align: top;\n",
       "    }\n",
       "\n",
       "    .dataframe thead th {\n",
       "        text-align: right;\n",
       "    }\n",
       "</style>\n",
       "<table border=\"1\" class=\"dataframe\">\n",
       "  <thead>\n",
       "    <tr style=\"text-align: right;\">\n",
       "      <th></th>\n",
       "      <th>label</th>\n",
       "      <th>pixel1</th>\n",
       "      <th>pixel2</th>\n",
       "      <th>pixel3</th>\n",
       "      <th>pixel4</th>\n",
       "      <th>pixel5</th>\n",
       "      <th>pixel6</th>\n",
       "      <th>pixel7</th>\n",
       "      <th>pixel8</th>\n",
       "      <th>pixel9</th>\n",
       "      <th>...</th>\n",
       "      <th>pixel775</th>\n",
       "      <th>pixel776</th>\n",
       "      <th>pixel777</th>\n",
       "      <th>pixel778</th>\n",
       "      <th>pixel779</th>\n",
       "      <th>pixel780</th>\n",
       "      <th>pixel781</th>\n",
       "      <th>pixel782</th>\n",
       "      <th>pixel783</th>\n",
       "      <th>pixel784</th>\n",
       "    </tr>\n",
       "  </thead>\n",
       "  <tbody>\n",
       "    <tr>\n",
       "      <th>0</th>\n",
       "      <td>3</td>\n",
       "      <td>107</td>\n",
       "      <td>118</td>\n",
       "      <td>127</td>\n",
       "      <td>134</td>\n",
       "      <td>139</td>\n",
       "      <td>143</td>\n",
       "      <td>146</td>\n",
       "      <td>150</td>\n",
       "      <td>153</td>\n",
       "      <td>...</td>\n",
       "      <td>207</td>\n",
       "      <td>207</td>\n",
       "      <td>207</td>\n",
       "      <td>207</td>\n",
       "      <td>206</td>\n",
       "      <td>206</td>\n",
       "      <td>206</td>\n",
       "      <td>204</td>\n",
       "      <td>203</td>\n",
       "      <td>202</td>\n",
       "    </tr>\n",
       "    <tr>\n",
       "      <th>1</th>\n",
       "      <td>6</td>\n",
       "      <td>155</td>\n",
       "      <td>157</td>\n",
       "      <td>156</td>\n",
       "      <td>156</td>\n",
       "      <td>156</td>\n",
       "      <td>157</td>\n",
       "      <td>156</td>\n",
       "      <td>158</td>\n",
       "      <td>158</td>\n",
       "      <td>...</td>\n",
       "      <td>69</td>\n",
       "      <td>149</td>\n",
       "      <td>128</td>\n",
       "      <td>87</td>\n",
       "      <td>94</td>\n",
       "      <td>163</td>\n",
       "      <td>175</td>\n",
       "      <td>103</td>\n",
       "      <td>135</td>\n",
       "      <td>149</td>\n",
       "    </tr>\n",
       "    <tr>\n",
       "      <th>2</th>\n",
       "      <td>2</td>\n",
       "      <td>187</td>\n",
       "      <td>188</td>\n",
       "      <td>188</td>\n",
       "      <td>187</td>\n",
       "      <td>187</td>\n",
       "      <td>186</td>\n",
       "      <td>187</td>\n",
       "      <td>188</td>\n",
       "      <td>187</td>\n",
       "      <td>...</td>\n",
       "      <td>202</td>\n",
       "      <td>201</td>\n",
       "      <td>200</td>\n",
       "      <td>199</td>\n",
       "      <td>198</td>\n",
       "      <td>199</td>\n",
       "      <td>198</td>\n",
       "      <td>195</td>\n",
       "      <td>194</td>\n",
       "      <td>195</td>\n",
       "    </tr>\n",
       "    <tr>\n",
       "      <th>3</th>\n",
       "      <td>2</td>\n",
       "      <td>211</td>\n",
       "      <td>211</td>\n",
       "      <td>212</td>\n",
       "      <td>212</td>\n",
       "      <td>211</td>\n",
       "      <td>210</td>\n",
       "      <td>211</td>\n",
       "      <td>210</td>\n",
       "      <td>210</td>\n",
       "      <td>...</td>\n",
       "      <td>235</td>\n",
       "      <td>234</td>\n",
       "      <td>233</td>\n",
       "      <td>231</td>\n",
       "      <td>230</td>\n",
       "      <td>226</td>\n",
       "      <td>225</td>\n",
       "      <td>222</td>\n",
       "      <td>229</td>\n",
       "      <td>163</td>\n",
       "    </tr>\n",
       "    <tr>\n",
       "      <th>4</th>\n",
       "      <td>13</td>\n",
       "      <td>164</td>\n",
       "      <td>167</td>\n",
       "      <td>170</td>\n",
       "      <td>172</td>\n",
       "      <td>176</td>\n",
       "      <td>179</td>\n",
       "      <td>180</td>\n",
       "      <td>184</td>\n",
       "      <td>185</td>\n",
       "      <td>...</td>\n",
       "      <td>92</td>\n",
       "      <td>105</td>\n",
       "      <td>105</td>\n",
       "      <td>108</td>\n",
       "      <td>133</td>\n",
       "      <td>163</td>\n",
       "      <td>157</td>\n",
       "      <td>163</td>\n",
       "      <td>164</td>\n",
       "      <td>179</td>\n",
       "    </tr>\n",
       "    <tr>\n",
       "      <th>5</th>\n",
       "      <td>16</td>\n",
       "      <td>161</td>\n",
       "      <td>168</td>\n",
       "      <td>172</td>\n",
       "      <td>173</td>\n",
       "      <td>178</td>\n",
       "      <td>184</td>\n",
       "      <td>189</td>\n",
       "      <td>193</td>\n",
       "      <td>196</td>\n",
       "      <td>...</td>\n",
       "      <td>76</td>\n",
       "      <td>74</td>\n",
       "      <td>68</td>\n",
       "      <td>62</td>\n",
       "      <td>53</td>\n",
       "      <td>55</td>\n",
       "      <td>48</td>\n",
       "      <td>238</td>\n",
       "      <td>255</td>\n",
       "      <td>255</td>\n",
       "    </tr>\n",
       "    <tr>\n",
       "      <th>6</th>\n",
       "      <td>8</td>\n",
       "      <td>134</td>\n",
       "      <td>134</td>\n",
       "      <td>135</td>\n",
       "      <td>135</td>\n",
       "      <td>136</td>\n",
       "      <td>137</td>\n",
       "      <td>137</td>\n",
       "      <td>138</td>\n",
       "      <td>138</td>\n",
       "      <td>...</td>\n",
       "      <td>109</td>\n",
       "      <td>102</td>\n",
       "      <td>91</td>\n",
       "      <td>65</td>\n",
       "      <td>138</td>\n",
       "      <td>189</td>\n",
       "      <td>179</td>\n",
       "      <td>181</td>\n",
       "      <td>181</td>\n",
       "      <td>179</td>\n",
       "    </tr>\n",
       "    <tr>\n",
       "      <th>7</th>\n",
       "      <td>22</td>\n",
       "      <td>114</td>\n",
       "      <td>42</td>\n",
       "      <td>74</td>\n",
       "      <td>99</td>\n",
       "      <td>104</td>\n",
       "      <td>109</td>\n",
       "      <td>117</td>\n",
       "      <td>127</td>\n",
       "      <td>142</td>\n",
       "      <td>...</td>\n",
       "      <td>214</td>\n",
       "      <td>218</td>\n",
       "      <td>220</td>\n",
       "      <td>223</td>\n",
       "      <td>223</td>\n",
       "      <td>225</td>\n",
       "      <td>227</td>\n",
       "      <td>227</td>\n",
       "      <td>228</td>\n",
       "      <td>228</td>\n",
       "    </tr>\n",
       "    <tr>\n",
       "      <th>8</th>\n",
       "      <td>3</td>\n",
       "      <td>169</td>\n",
       "      <td>174</td>\n",
       "      <td>176</td>\n",
       "      <td>180</td>\n",
       "      <td>183</td>\n",
       "      <td>185</td>\n",
       "      <td>187</td>\n",
       "      <td>188</td>\n",
       "      <td>190</td>\n",
       "      <td>...</td>\n",
       "      <td>119</td>\n",
       "      <td>118</td>\n",
       "      <td>123</td>\n",
       "      <td>120</td>\n",
       "      <td>118</td>\n",
       "      <td>114</td>\n",
       "      <td>94</td>\n",
       "      <td>74</td>\n",
       "      <td>61</td>\n",
       "      <td>57</td>\n",
       "    </tr>\n",
       "    <tr>\n",
       "      <th>9</th>\n",
       "      <td>3</td>\n",
       "      <td>189</td>\n",
       "      <td>189</td>\n",
       "      <td>189</td>\n",
       "      <td>190</td>\n",
       "      <td>190</td>\n",
       "      <td>191</td>\n",
       "      <td>190</td>\n",
       "      <td>190</td>\n",
       "      <td>190</td>\n",
       "      <td>...</td>\n",
       "      <td>13</td>\n",
       "      <td>53</td>\n",
       "      <td>200</td>\n",
       "      <td>204</td>\n",
       "      <td>201</td>\n",
       "      <td>201</td>\n",
       "      <td>193</td>\n",
       "      <td>175</td>\n",
       "      <td>178</td>\n",
       "      <td>156</td>\n",
       "    </tr>\n",
       "  </tbody>\n",
       "</table>\n",
       "<p>10 rows × 785 columns</p>\n",
       "</div>"
      ],
      "text/plain": [
       "   label  pixel1  pixel2  pixel3  pixel4  pixel5  pixel6  pixel7  pixel8  \\\n",
       "0      3     107     118     127     134     139     143     146     150   \n",
       "1      6     155     157     156     156     156     157     156     158   \n",
       "2      2     187     188     188     187     187     186     187     188   \n",
       "3      2     211     211     212     212     211     210     211     210   \n",
       "4     13     164     167     170     172     176     179     180     184   \n",
       "5     16     161     168     172     173     178     184     189     193   \n",
       "6      8     134     134     135     135     136     137     137     138   \n",
       "7     22     114      42      74      99     104     109     117     127   \n",
       "8      3     169     174     176     180     183     185     187     188   \n",
       "9      3     189     189     189     190     190     191     190     190   \n",
       "\n",
       "   pixel9  ...  pixel775  pixel776  pixel777  pixel778  pixel779  pixel780  \\\n",
       "0     153  ...       207       207       207       207       206       206   \n",
       "1     158  ...        69       149       128        87        94       163   \n",
       "2     187  ...       202       201       200       199       198       199   \n",
       "3     210  ...       235       234       233       231       230       226   \n",
       "4     185  ...        92       105       105       108       133       163   \n",
       "5     196  ...        76        74        68        62        53        55   \n",
       "6     138  ...       109       102        91        65       138       189   \n",
       "7     142  ...       214       218       220       223       223       225   \n",
       "8     190  ...       119       118       123       120       118       114   \n",
       "9     190  ...        13        53       200       204       201       201   \n",
       "\n",
       "   pixel781  pixel782  pixel783  pixel784  \n",
       "0       206       204       203       202  \n",
       "1       175       103       135       149  \n",
       "2       198       195       194       195  \n",
       "3       225       222       229       163  \n",
       "4       157       163       164       179  \n",
       "5        48       238       255       255  \n",
       "6       179       181       181       179  \n",
       "7       227       227       228       228  \n",
       "8        94        74        61        57  \n",
       "9       193       175       178       156  \n",
       "\n",
       "[10 rows x 785 columns]"
      ]
     },
     "execution_count": 5,
     "metadata": {},
     "output_type": "execute_result"
    }
   ],
   "source": [
    "train_data.head(10)"
   ]
  },
  {
   "cell_type": "code",
   "execution_count": 6,
   "metadata": {
    "colab": {
     "base_uri": "https://localhost:8080/"
    },
    "id": "nCkSmMohS75H",
    "outputId": "f52a238e-c239-494a-f4ba-0d3ad3a51d8c"
   },
   "outputs": [
    {
     "data": {
      "text/plain": [
       "Index(['label', 'pixel1', 'pixel2', 'pixel3', 'pixel4', 'pixel5', 'pixel6',\n",
       "       'pixel7', 'pixel8', 'pixel9',\n",
       "       ...\n",
       "       'pixel775', 'pixel776', 'pixel777', 'pixel778', 'pixel779', 'pixel780',\n",
       "       'pixel781', 'pixel782', 'pixel783', 'pixel784'],\n",
       "      dtype='object', length=785)"
      ]
     },
     "execution_count": 6,
     "metadata": {},
     "output_type": "execute_result"
    }
   ],
   "source": [
    "train_data.columns"
   ]
  },
  {
   "cell_type": "code",
   "execution_count": 7,
   "metadata": {
    "id": "VrYSbEC2WEg_"
   },
   "outputs": [],
   "source": [
    "train_x=train_data.drop(columns=\"label\")\n",
    "#train_x"
   ]
  },
  {
   "cell_type": "code",
   "execution_count": 8,
   "metadata": {
    "id": "Uy76J_5UWHNg"
   },
   "outputs": [],
   "source": [
    "train_y=train_data[\"label\"]\n",
    "#train_y"
   ]
  },
  {
   "cell_type": "code",
   "execution_count": 9,
   "metadata": {
    "id": "ge0TJNAmWHXK"
   },
   "outputs": [],
   "source": [
    "def csv_to_image_shape(train_x):\n",
    "  train_X=[]\n",
    "  for i in range(train_x.shape[0]):\n",
    "   temp=train_x.loc[i].values\n",
    "   data=temp.reshape(28,28)\n",
    "   train_X.append(data)\n",
    "  train_X=np.asanyarray(train_X)\n",
    "  return train_X"
   ]
  },
  {
   "cell_type": "code",
   "execution_count": 10,
   "metadata": {
    "colab": {
     "base_uri": "https://localhost:8080/"
    },
    "id": "VwlrwRcrWHZr",
    "outputId": "4464c3be-9d45-4f19-e284-ffee961e5659"
   },
   "outputs": [
    {
     "data": {
      "text/plain": [
       "array([[[107, 118, 127, ..., 170, 170, 169],\n",
       "        [111, 121, 129, ..., 171, 171, 170],\n",
       "        [113, 123, 131, ..., 171, 171, 171],\n",
       "        ...,\n",
       "        [142, 150, 159, ..., 202, 201, 200],\n",
       "        [142, 151, 160, ..., 204, 203, 202],\n",
       "        [142, 151, 160, ..., 204, 203, 202]],\n",
       "\n",
       "       [[155, 157, 156, ..., 138,  92, 108],\n",
       "        [158, 159, 159, ..., 142, 116, 143],\n",
       "        [161, 161, 161, ..., 147, 125, 140],\n",
       "        ...,\n",
       "        [162, 159, 145, ...,  91, 101,  94],\n",
       "        [153, 139, 115, ...,  97,  95, 120],\n",
       "        [135, 116,  95, ..., 103, 135, 149]],\n",
       "\n",
       "       [[187, 188, 188, ...,  66,  77,  83],\n",
       "        [188, 189, 189, ...,  73,  73,  71],\n",
       "        [190, 190, 190, ...,  74,  68,  61],\n",
       "        ...,\n",
       "        [212, 198, 175, ..., 195, 193, 192],\n",
       "        [202, 179, 152, ..., 195, 194, 193],\n",
       "        [198, 166, 132, ..., 195, 194, 195]],\n",
       "\n",
       "       ...,\n",
       "\n",
       "       [[174, 174, 174, ..., 160, 158, 156],\n",
       "        [178, 178, 177, ..., 162, 160, 158],\n",
       "        [181, 180, 180, ..., 164, 162, 161],\n",
       "        ...,\n",
       "        [215, 216, 216, ..., 201, 199, 198],\n",
       "        [216, 217, 217, ..., 201, 200, 198],\n",
       "        [217, 217, 217, ..., 202, 200, 200]],\n",
       "\n",
       "       [[177, 181, 184, ..., 181, 179, 177],\n",
       "        [179, 182, 185, ..., 183, 181, 179],\n",
       "        [181, 184, 187, ..., 185, 183, 182],\n",
       "        ...,\n",
       "        [129, 132, 134, ...,  94, 102,  70],\n",
       "        [131, 134, 132, ...,  78, 100,  86],\n",
       "        [136, 135, 135, ...,  64,  87,  93]],\n",
       "\n",
       "       [[179, 180, 180, ...,  47,  30,  39],\n",
       "        [180, 182, 183, ...,  79,  24,  34],\n",
       "        [184, 184, 185, ..., 115,  25,  29],\n",
       "        ...,\n",
       "        [ 90,  94,  76, ..., 109, 150, 172],\n",
       "        [ 94,  93,  89, ..., 202, 213, 215],\n",
       "        [ 96,  88, 109, ..., 205, 209, 215]]], dtype=int64)"
      ]
     },
     "execution_count": 10,
     "metadata": {},
     "output_type": "execute_result"
    }
   ],
   "source": [
    "train_X=csv_to_image_shape(train_x)\n",
    "train_X"
   ]
  },
  {
   "cell_type": "code",
   "execution_count": 11,
   "metadata": {
    "colab": {
     "base_uri": "https://localhost:8080/"
    },
    "id": "q5ZSb3MGWHcY",
    "outputId": "53430ec5-82be-469e-88aa-546cb03b9a57"
   },
   "outputs": [
    {
     "data": {
      "text/plain": [
       "(27455, 28, 28)"
      ]
     },
     "execution_count": 11,
     "metadata": {},
     "output_type": "execute_result"
    }
   ],
   "source": [
    "train_X.shape"
   ]
  },
  {
   "cell_type": "code",
   "execution_count": 12,
   "metadata": {
    "colab": {
     "base_uri": "https://localhost:8080/"
    },
    "id": "-d2BLPjZWHeM",
    "outputId": "86113efc-8697-4c58-d415-f73dcca937e9"
   },
   "outputs": [
    {
     "data": {
      "text/plain": [
       "(28, 28)"
      ]
     },
     "execution_count": 12,
     "metadata": {},
     "output_type": "execute_result"
    }
   ],
   "source": [
    "train_X[1].shape"
   ]
  },
  {
   "cell_type": "code",
   "execution_count": 13,
   "metadata": {
    "id": "xdJLDyZ-WHgh"
   },
   "outputs": [],
   "source": [
    "class_names = ['A', 'B', 'C', 'D', 'E', 'F', 'G', 'H', 'I', 'J', 'K', 'L', 'M', 'N', 'O', 'P', 'Q', 'R', 'S', 'T', 'U', 'V', 'W', 'X', 'Y' ]"
   ]
  },
  {
   "cell_type": "code",
   "execution_count": 14,
   "metadata": {
    "id": "gLH6tqqJWHi_"
   },
   "outputs": [],
   "source": [
    "import IPython.display as display\n",
    "import matplotlib.pyplot as plt\n",
    "import matplotlib as mpl\n",
    "\n",
    "def imshow(image):\n",
    "    plt.imshow(image)\n",
    "    plt.title(image.shape)\n",
    "    plt.show()"
   ]
  },
  {
   "cell_type": "code",
   "execution_count": 15,
   "metadata": {
    "colab": {
     "base_uri": "https://localhost:8080/",
     "height": 437
    },
    "id": "dDOGtzomWHmT",
    "outputId": "3ca44ddd-9c39-46f4-ad87-e9f414e30e45"
   },
   "outputs": [
    {
     "data": {
      "image/png": "[encoded data removed]",
      "text/plain": [
       "<Figure size 432x288 with 1 Axes>"
      ]
     },
     "metadata": {
      "needs_background": "light"
     },
     "output_type": "display_data"
    },
    {
     "data": {
      "image/png": "[encoded data removed]",
      "text/plain": [
       "<Figure size 432x288 with 1 Axes>"
      ]
     },
     "metadata": {
      "needs_background": "light"
     },
     "output_type": "display_data"
    },
    {
     "data": {
      "image/png": "[encoded data removed]",
      "text/plain": [
       "<Figure size 432x288 with 1 Axes>"
      ]
     },
     "metadata": {
      "needs_background": "light"
     },
     "output_type": "display_data"
    },
    {
     "data": {
      "image/png": "[encoded data removed]",
      "text/plain": [
       "<Figure size 432x288 with 1 Axes>"
      ]
     },
     "metadata": {
      "needs_background": "light"
     },
     "output_type": "display_data"
    },
    {
     "data": {
      "image/png": "[encoded data removed]",
      "text/plain": [
       "<Figure size 432x288 with 1 Axes>"
      ]
     },
     "metadata": {
      "needs_background": "light"
     },
     "output_type": "display_data"
    }
   ],
   "source": [
    "for i in range(1,6):\n",
    "    plt.subplot(5,1,i)\n",
    "    imshow(train_X[i])"
   ]
  },
  {
   "cell_type": "code",
   "execution_count": 16,
   "metadata": {
    "colab": {
     "base_uri": "https://localhost:8080/",
     "height": 594
    },
    "id": "ELdCoCBhYfqc",
    "outputId": "098f2b9b-089e-4005-d59f-f7a731c0038b"
   },
   "outputs": [
    {
     "data": {
      "image/png": "[encoded data removed]",
      "text/plain": [
       "<Figure size 720x720 with 25 Axes>"
      ]
     },
     "metadata": {},
     "output_type": "display_data"
    }
   ],
   "source": [
    "#Visualize train images\n",
    "plt.figure(figsize=(10, 10))\n",
    "for i in range(25):\n",
    "    plt.subplot(5, 5, i + 1)\n",
    "    plt.xticks([])\n",
    "    plt.yticks([])\n",
    "    plt.grid(False)\n",
    "    plt.imshow(train_X[i], cmap=plt.cm.binary)\n",
    "    label_index = int(train_y[i])\n",
    "    plt.title(class_names[label_index])\n",
    "plt.show()"
   ]
  },
  {
   "cell_type": "code",
   "execution_count": 17,
   "metadata": {
    "colab": {
     "base_uri": "https://localhost:8080/",
     "height": 253
    },
    "id": "zpIHVUZSYfto",
    "outputId": "5b6776c3-5c34-40e0-cf44-ac9ab6c1bcf6"
   },
   "outputs": [
    {
     "data": {
      "text/html": [
       "<div>\n",
       "<style scoped>\n",
       "    .dataframe tbody tr th:only-of-type {\n",
       "        vertical-align: middle;\n",
       "    }\n",
       "\n",
       "    .dataframe tbody tr th {\n",
       "        vertical-align: top;\n",
       "    }\n",
       "\n",
       "    .dataframe thead th {\n",
       "        text-align: right;\n",
       "    }\n",
       "</style>\n",
       "<table border=\"1\" class=\"dataframe\">\n",
       "  <thead>\n",
       "    <tr style=\"text-align: right;\">\n",
       "      <th></th>\n",
       "      <th>label</th>\n",
       "      <th>pixel1</th>\n",
       "      <th>pixel2</th>\n",
       "      <th>pixel3</th>\n",
       "      <th>pixel4</th>\n",
       "      <th>pixel5</th>\n",
       "      <th>pixel6</th>\n",
       "      <th>pixel7</th>\n",
       "      <th>pixel8</th>\n",
       "      <th>pixel9</th>\n",
       "      <th>...</th>\n",
       "      <th>pixel775</th>\n",
       "      <th>pixel776</th>\n",
       "      <th>pixel777</th>\n",
       "      <th>pixel778</th>\n",
       "      <th>pixel779</th>\n",
       "      <th>pixel780</th>\n",
       "      <th>pixel781</th>\n",
       "      <th>pixel782</th>\n",
       "      <th>pixel783</th>\n",
       "      <th>pixel784</th>\n",
       "    </tr>\n",
       "  </thead>\n",
       "  <tbody>\n",
       "    <tr>\n",
       "      <th>0</th>\n",
       "      <td>6</td>\n",
       "      <td>149</td>\n",
       "      <td>149</td>\n",
       "      <td>150</td>\n",
       "      <td>150</td>\n",
       "      <td>150</td>\n",
       "      <td>151</td>\n",
       "      <td>151</td>\n",
       "      <td>150</td>\n",
       "      <td>151</td>\n",
       "      <td>...</td>\n",
       "      <td>138</td>\n",
       "      <td>148</td>\n",
       "      <td>127</td>\n",
       "      <td>89</td>\n",
       "      <td>82</td>\n",
       "      <td>96</td>\n",
       "      <td>106</td>\n",
       "      <td>112</td>\n",
       "      <td>120</td>\n",
       "      <td>107</td>\n",
       "    </tr>\n",
       "    <tr>\n",
       "      <th>1</th>\n",
       "      <td>5</td>\n",
       "      <td>126</td>\n",
       "      <td>128</td>\n",
       "      <td>131</td>\n",
       "      <td>132</td>\n",
       "      <td>133</td>\n",
       "      <td>134</td>\n",
       "      <td>135</td>\n",
       "      <td>135</td>\n",
       "      <td>136</td>\n",
       "      <td>...</td>\n",
       "      <td>47</td>\n",
       "      <td>104</td>\n",
       "      <td>194</td>\n",
       "      <td>183</td>\n",
       "      <td>186</td>\n",
       "      <td>184</td>\n",
       "      <td>184</td>\n",
       "      <td>184</td>\n",
       "      <td>182</td>\n",
       "      <td>180</td>\n",
       "    </tr>\n",
       "    <tr>\n",
       "      <th>2</th>\n",
       "      <td>10</td>\n",
       "      <td>85</td>\n",
       "      <td>88</td>\n",
       "      <td>92</td>\n",
       "      <td>96</td>\n",
       "      <td>105</td>\n",
       "      <td>123</td>\n",
       "      <td>135</td>\n",
       "      <td>143</td>\n",
       "      <td>147</td>\n",
       "      <td>...</td>\n",
       "      <td>68</td>\n",
       "      <td>166</td>\n",
       "      <td>242</td>\n",
       "      <td>227</td>\n",
       "      <td>230</td>\n",
       "      <td>227</td>\n",
       "      <td>226</td>\n",
       "      <td>225</td>\n",
       "      <td>224</td>\n",
       "      <td>222</td>\n",
       "    </tr>\n",
       "    <tr>\n",
       "      <th>3</th>\n",
       "      <td>0</td>\n",
       "      <td>203</td>\n",
       "      <td>205</td>\n",
       "      <td>207</td>\n",
       "      <td>206</td>\n",
       "      <td>207</td>\n",
       "      <td>209</td>\n",
       "      <td>210</td>\n",
       "      <td>209</td>\n",
       "      <td>210</td>\n",
       "      <td>...</td>\n",
       "      <td>154</td>\n",
       "      <td>248</td>\n",
       "      <td>247</td>\n",
       "      <td>248</td>\n",
       "      <td>253</td>\n",
       "      <td>236</td>\n",
       "      <td>230</td>\n",
       "      <td>240</td>\n",
       "      <td>253</td>\n",
       "      <td>255</td>\n",
       "    </tr>\n",
       "    <tr>\n",
       "      <th>4</th>\n",
       "      <td>3</td>\n",
       "      <td>188</td>\n",
       "      <td>191</td>\n",
       "      <td>193</td>\n",
       "      <td>195</td>\n",
       "      <td>199</td>\n",
       "      <td>201</td>\n",
       "      <td>202</td>\n",
       "      <td>203</td>\n",
       "      <td>203</td>\n",
       "      <td>...</td>\n",
       "      <td>26</td>\n",
       "      <td>40</td>\n",
       "      <td>64</td>\n",
       "      <td>48</td>\n",
       "      <td>29</td>\n",
       "      <td>46</td>\n",
       "      <td>49</td>\n",
       "      <td>46</td>\n",
       "      <td>46</td>\n",
       "      <td>53</td>\n",
       "    </tr>\n",
       "  </tbody>\n",
       "</table>\n",
       "<p>5 rows × 785 columns</p>\n",
       "</div>"
      ],
      "text/plain": [
       "   label  pixel1  pixel2  pixel3  pixel4  pixel5  pixel6  pixel7  pixel8  \\\n",
       "0      6     149     149     150     150     150     151     151     150   \n",
       "1      5     126     128     131     132     133     134     135     135   \n",
       "2     10      85      88      92      96     105     123     135     143   \n",
       "3      0     203     205     207     206     207     209     210     209   \n",
       "4      3     188     191     193     195     199     201     202     203   \n",
       "\n",
       "   pixel9  ...  pixel775  pixel776  pixel777  pixel778  pixel779  pixel780  \\\n",
       "0     151  ...       138       148       127        89        82        96   \n",
       "1     136  ...        47       104       194       183       186       184   \n",
       "2     147  ...        68       166       242       227       230       227   \n",
       "3     210  ...       154       248       247       248       253       236   \n",
       "4     203  ...        26        40        64        48        29        46   \n",
       "\n",
       "   pixel781  pixel782  pixel783  pixel784  \n",
       "0       106       112       120       107  \n",
       "1       184       184       182       180  \n",
       "2       226       225       224       222  \n",
       "3       230       240       253       255  \n",
       "4        49        46        46        53  \n",
       "\n",
       "[5 rows x 785 columns]"
      ]
     },
     "execution_count": 17,
     "metadata": {},
     "output_type": "execute_result"
    }
   ],
   "source": [
    "test_data=pd.read_csv('sign_mnist_test.csv')\n",
    "test_data.head(5)"
   ]
  },
  {
   "cell_type": "code",
   "execution_count": 18,
   "metadata": {
    "id": "mvN072gGYfwy"
   },
   "outputs": [],
   "source": [
    "test_x=test_data.drop(columns=\"label\")\n",
    "#test_x"
   ]
  },
  {
   "cell_type": "code",
   "execution_count": 19,
   "metadata": {
    "id": "EfKsyfstYfz_"
   },
   "outputs": [],
   "source": [
    "test_y=test_data[\"label\"]\n",
    "#train_y"
   ]
  },
  {
   "cell_type": "code",
   "execution_count": 20,
   "metadata": {
    "colab": {
     "base_uri": "https://localhost:8080/"
    },
    "id": "CaVqhHLqYf2v",
    "outputId": "b410feab-ff86-499e-d754-0116ba97528e"
   },
   "outputs": [
    {
     "data": {
      "text/plain": [
       "array([[[149, 149, 150, ..., 150, 150, 149],\n",
       "        [150, 150, 150, ..., 151, 150, 151],\n",
       "        [150, 151, 151, ..., 151, 151, 152],\n",
       "        ...,\n",
       "        [ 69,  69,  77, ..., 116, 113, 118],\n",
       "        [ 74,  75,  76, ..., 110, 116, 113],\n",
       "        [ 75,  74,  74, ..., 112, 120, 107]],\n",
       "\n",
       "       [[126, 128, 131, ..., 133, 134, 132],\n",
       "        [129, 132, 134, ..., 136, 136, 134],\n",
       "        [133, 135, 138, ..., 140, 139, 138],\n",
       "        ...,\n",
       "        [173, 174, 177, ..., 184, 182, 181],\n",
       "        [172, 174, 177, ..., 184, 182, 181],\n",
       "        [172, 174, 177, ..., 184, 182, 180]],\n",
       "\n",
       "       [[ 85,  88,  92, ..., 182, 181, 178],\n",
       "        [ 86,  88,  93, ..., 183, 181, 179],\n",
       "        [ 86,  89,  93, ..., 185, 183, 181],\n",
       "        ...,\n",
       "        [ 91,  94,  97, ..., 224, 222, 221],\n",
       "        [ 90,  92,  96, ..., 225, 224, 222],\n",
       "        [ 89,  91,  94, ..., 225, 224, 222]],\n",
       "\n",
       "       ...,\n",
       "\n",
       "       [[190, 191, 190, ..., 185, 184, 183],\n",
       "        [193, 193, 193, ..., 186, 185, 184],\n",
       "        [195, 194, 195, ..., 187, 186, 187],\n",
       "        ...,\n",
       "        [214, 215, 213, ..., 208, 208, 208],\n",
       "        [214, 215, 209, ..., 209, 208, 207],\n",
       "        [215, 215, 207, ..., 211, 209, 208]],\n",
       "\n",
       "       [[201, 205, 208, ..., 239, 239, 239],\n",
       "        [206, 209, 212, ..., 242, 242, 242],\n",
       "        [210, 214, 216, ..., 246, 245, 244],\n",
       "        ...,\n",
       "        [255, 255, 255, ..., 255, 200, 142],\n",
       "        [255, 255, 255, ...,  99,  80,  77],\n",
       "        [255, 255, 255, ...,  67,  70,  63]],\n",
       "\n",
       "       [[173, 174, 173, ..., 168, 167, 166],\n",
       "        [176, 176, 176, ..., 168, 168, 167],\n",
       "        [178, 177, 178, ..., 169, 168, 169],\n",
       "        ...,\n",
       "        [198, 199, 199, ..., 192, 192, 192],\n",
       "        [198, 200, 193, ..., 193, 192, 191],\n",
       "        [199, 201, 190, ..., 195, 193, 192]]], dtype=int64)"
      ]
     },
     "execution_count": 20,
     "metadata": {},
     "output_type": "execute_result"
    }
   ],
   "source": [
    "test_X=csv_to_image_shape(test_x)\n",
    "test_X"
   ]
  },
  {
   "cell_type": "code",
   "execution_count": 21,
   "metadata": {
    "colab": {
     "base_uri": "https://localhost:8080/"
    },
    "id": "W17YQ7cBYf5m",
    "outputId": "70b482c0-3518-4056-a5d4-e3591b2aecc4"
   },
   "outputs": [
    {
     "data": {
      "text/plain": [
       "(7172, 28, 28)"
      ]
     },
     "execution_count": 21,
     "metadata": {},
     "output_type": "execute_result"
    }
   ],
   "source": [
    "test_X.shape"
   ]
  },
  {
   "cell_type": "code",
   "execution_count": 22,
   "metadata": {
    "colab": {
     "base_uri": "https://localhost:8080/",
     "height": 281
    },
    "id": "TJVbM-w7Yf8W",
    "outputId": "62b839eb-8772-4196-bdb9-bd2a4c1f242e"
   },
   "outputs": [
    {
     "data": {
      "image/png": "[encoded data removed]",
      "text/plain": [
       "<Figure size 432x288 with 1 Axes>"
      ]
     },
     "metadata": {
      "needs_background": "light"
     },
     "output_type": "display_data"
    }
   ],
   "source": [
    "imshow(test_X[1])"
   ]
  },
  {
   "cell_type": "code",
   "execution_count": 23,
   "metadata": {
    "colab": {
     "base_uri": "https://localhost:8080/"
    },
    "id": "nvacE5fqYf-0",
    "outputId": "f6883333-800c-4225-a505-0724c6094bf6"
   },
   "outputs": [
    {
     "name": "stdout",
     "output_type": "stream",
     "text": [
      "(27455, 28, 28, 1)\n",
      "(7172, 28, 28, 1)\n"
     ]
    }
   ],
   "source": [
    "training_data = np.expand_dims(train_X, axis=3)\n",
    "testing_data = np.expand_dims(test_X, axis=3)\n",
    "\n",
    "print(training_data.shape)\n",
    "print(testing_data.shape)"
   ]
  },
  {
   "cell_type": "code",
   "execution_count": 24,
   "metadata": {
    "colab": {
     "base_uri": "https://localhost:8080/"
    },
    "id": "0nYnCD65YgB0",
    "outputId": "5f74305b-ea71-4986-b7d3-606c4cec863c"
   },
   "outputs": [
    {
     "data": {
      "text/plain": [
       "(28, 28, 1)"
      ]
     },
     "execution_count": 24,
     "metadata": {},
     "output_type": "execute_result"
    }
   ],
   "source": [
    "training_data[1].shape"
   ]
  },
  {
   "cell_type": "code",
   "execution_count": 25,
   "metadata": {
    "colab": {
     "base_uri": "https://localhost:8080/"
    },
    "id": "0UT2vGLeYgD9",
    "outputId": "eb8ace4a-94e9-418e-8e32-d01f4fed9e2d"
   },
   "outputs": [
    {
     "data": {
      "text/plain": [
       "(28, 28, 1)"
      ]
     },
     "execution_count": 25,
     "metadata": {},
     "output_type": "execute_result"
    }
   ],
   "source": [
    "testing_data[1].shape"
   ]
  },
  {
   "cell_type": "code",
   "execution_count": 26,
   "metadata": {
    "id": "jo_e4noPcWDA"
   },
   "outputs": [],
   "source": [
    "train_datagen = ImageDataGenerator(\n",
    "    rescale=1. / 255,\n",
    "    rotation_range=40,\n",
    "    width_shift_range=0.2,\n",
    "    height_shift_range=0.2,\n",
    "    shear_range=0.2,\n",
    "    zoom_range=0.2,\n",
    "    horizontal_flip=True,\n",
    "    fill_mode='nearest'\n",
    "    )\n",
    "\n",
    "validation_datagen = ImageDataGenerator(rescale=1 / 255)"
   ]
  },
  {
   "cell_type": "code",
   "execution_count": 27,
   "metadata": {
    "id": "UT9G_xVTcWGa"
   },
   "outputs": [],
   "source": [
    "train_generator = train_datagen.flow(\n",
    "    training_data,\n",
    "    train_y,\n",
    "    batch_size = 512\n",
    ")"
   ]
  },
  {
   "cell_type": "code",
   "execution_count": 28,
   "metadata": {
    "id": "rvUEUgYqcWMU"
   },
   "outputs": [],
   "source": [
    "validation_generator = validation_datagen.flow(\n",
    "    x=testing_data,\n",
    "    y=test_y,\n",
    "    batch_size = 512\n",
    ")"
   ]
  },
  {
   "cell_type": "code",
   "execution_count": 87,
   "metadata": {
    "id": "hcZ3_h3DYgHc"
   },
   "outputs": [],
   "source": [
    "# Dimension of our images.\n",
    "img_width, img_height = 28, 28\n",
    "\n",
    "#Setting up the batchsizes.\n",
    "nb_train_samples = 27455\n",
    "nb_validation_samples = 7172\n",
    "epochs = 60\n",
    "batch_size = 512\n",
    "\n",
    "input_shape=(28,28,1)"
   ]
  },
  {
   "cell_type": "code",
   "execution_count": 88,
   "metadata": {
    "id": "HeJoB1UZer1w"
   },
   "outputs": [],
   "source": [
    "cnn_model = Sequential()\n",
    "\n",
    "cnn_model.add(Conv2D(64, (3, 3), input_shape = input_shape, activation='relu'))\n",
    "cnn_model.add(MaxPooling2D(pool_size = (2, 2)))\n",
    "cnn_model.add(Dropout(0.25))\n",
    "\n",
    "cnn_model.add(Conv2D(128, (3, 3), activation='relu'))\n",
    "#cnn_model.add(MaxPooling2D(pool_size = (2, 2)))\n",
    "#cnn_model.add(Dropout(0.25))\n",
    "\n",
    "cnn_model.add(Conv2D(128, (3, 3), activation='relu'))\n",
    "cnn_model.add(MaxPooling2D(pool_size = (2, 2)))\n",
    "cnn_model.add(Dropout(0.25))\n",
    "\n",
    "cnn_model.add(Flatten())\n",
    "\n",
    "cnn_model.add(Dense(units = 1000, activation = 'relu'))\n",
    "#cnn_model.add(Dropout(0.5))\n",
    "#cnn_model.add(Dense(units = 750, activation = 'relu'))\n",
    "#cnn_model.add(Dropout(0.5))\n",
    "cnn_model.add(Dense(units = 500, activation = 'relu'))\n",
    "cnn_model.add(Dropout(0.5))\n",
    "cnn_model.add(Dense(units = 250, activation = 'relu'))\n",
    "cnn_model.add(Dropout(0.5))\n",
    "cnn_model.add(Dense(units = 25, activation = 'softmax'))"
   ]
  },
  {
   "cell_type": "code",
   "execution_count": 89,
   "metadata": {
    "colab": {
     "base_uri": "https://localhost:8080/"
    },
    "id": "TibtTxQResDn",
    "outputId": "7c99b674-b1cf-42e2-e81b-94e76447109d"
   },
   "outputs": [
    {
     "name": "stdout",
     "output_type": "stream",
     "text": [
      "Model: \"sequential_10\"\n",
      "_________________________________________________________________\n",
      "Layer (type)                 Output Shape              Param #   \n",
      "=================================================================\n",
      "conv2d_30 (Conv2D)           (None, 26, 26, 64)        640       \n",
      "_________________________________________________________________\n",
      "max_pooling2d_20 (MaxPooling (None, 13, 13, 64)        0         \n",
      "_________________________________________________________________\n",
      "dropout_41 (Dropout)         (None, 13, 13, 64)        0         \n",
      "_________________________________________________________________\n",
      "conv2d_31 (Conv2D)           (None, 11, 11, 128)       73856     \n",
      "_________________________________________________________________\n",
      "conv2d_32 (Conv2D)           (None, 9, 9, 128)         147584    \n",
      "_________________________________________________________________\n",
      "max_pooling2d_21 (MaxPooling (None, 4, 4, 128)         0         \n",
      "_________________________________________________________________\n",
      "dropout_42 (Dropout)         (None, 4, 4, 128)         0         \n",
      "_________________________________________________________________\n",
      "flatten_10 (Flatten)         (None, 2048)              0         \n",
      "_________________________________________________________________\n",
      "dense_39 (Dense)             (None, 1000)              2049000   \n",
      "_________________________________________________________________\n",
      "dense_40 (Dense)             (None, 500)               500500    \n",
      "_________________________________________________________________\n",
      "dropout_43 (Dropout)         (None, 500)               0         \n",
      "_________________________________________________________________\n",
      "dense_41 (Dense)             (None, 250)               125250    \n",
      "_________________________________________________________________\n",
      "dropout_44 (Dropout)         (None, 250)               0         \n",
      "_________________________________________________________________\n",
      "dense_42 (Dense)             (None, 25)                6275      \n",
      "=================================================================\n",
      "Total params: 2,903,105\n",
      "Trainable params: 2,903,105\n",
      "Non-trainable params: 0\n",
      "_________________________________________________________________\n"
     ]
    }
   ],
   "source": [
    "#to print a summary representation of your model\n",
    "cnn_model.summary()"
   ]
  },
  {
   "cell_type": "code",
   "execution_count": 90,
   "metadata": {
    "id": "_pf9oQyxesX4"
   },
   "outputs": [],
   "source": [
    "cnn_model.compile(optimizer='adam',\n",
    "    loss='sparse_categorical_crossentropy',\n",
    "    metrics=['accuracy'])\n",
    "    "
   ]
  },
  {
   "cell_type": "code",
   "execution_count": 91,
   "metadata": {
    "colab": {
     "base_uri": "https://localhost:8080/"
    },
    "id": "2UWkl2-3fv9B",
    "outputId": "29a4870c-d588-44af-a562-33641203ca2b"
   },
   "outputs": [
    {
     "data": {
      "text/plain": [
       "'model1 = cnn_model.fit(training_data,train_y,\\n                    validation_data = (testing_data,test_y),\\n                    steps_per_epoch = nb_train_samples//batch_size,\\n                    epochs = epochs,\\n                    validation_steps = nb_validation_samples//batch_size)'"
      ]
     },
     "execution_count": 91,
     "metadata": {},
     "output_type": "execute_result"
    }
   ],
   "source": [
    "#train_generator\n",
    "#validation_generator\n",
    "\"\"\"model1 = cnn_model.fit(training_data,train_y,\n",
    "                    validation_data = (testing_data,test_y),\n",
    "                    steps_per_epoch = nb_train_samples//batch_size,\n",
    "                    epochs = epochs,\n",
    "                    validation_steps = nb_validation_samples//batch_size)\"\"\""
   ]
  },
  {
   "cell_type": "code",
   "execution_count": 92,
   "metadata": {},
   "outputs": [
    {
     "name": "stdout",
     "output_type": "stream",
     "text": [
      "Epoch 1/60\n",
      "53/53 [==============================] - 34s 640ms/step - loss: 3.1994 - accuracy: 0.0454 - val_loss: 3.2010 - val_accuracy: 0.0225\n",
      "Epoch 2/60\n",
      "53/53 [==============================] - 34s 646ms/step - loss: 3.1085 - accuracy: 0.0687 - val_loss: 2.9638 - val_accuracy: 0.0866\n",
      "Epoch 3/60\n",
      "53/53 [==============================] - 34s 644ms/step - loss: 2.9164 - accuracy: 0.1006 - val_loss: 2.8900 - val_accuracy: 0.1080\n",
      "Epoch 4/60\n",
      "53/53 [==============================] - 34s 640ms/step - loss: 2.6924 - accuracy: 0.1496 - val_loss: 2.5490 - val_accuracy: 0.1861\n",
      "Epoch 5/60\n",
      "53/53 [==============================] - 34s 644ms/step - loss: 2.4312 - accuracy: 0.2130 - val_loss: 1.9059 - val_accuracy: 0.3267\n",
      "Epoch 6/60\n",
      "53/53 [==============================] - 34s 642ms/step - loss: 2.1214 - accuracy: 0.2906 - val_loss: 1.5692 - val_accuracy: 0.3954\n",
      "Epoch 7/60\n",
      "53/53 [==============================] - 34s 650ms/step - loss: 1.8690 - accuracy: 0.3607 - val_loss: 1.3823 - val_accuracy: 0.4877\n",
      "Epoch 8/60\n",
      "53/53 [==============================] - 34s 646ms/step - loss: 1.6469 - accuracy: 0.4321 - val_loss: 1.0474 - val_accuracy: 0.5905\n",
      "Epoch 9/60\n",
      "53/53 [==============================] - 34s 645ms/step - loss: 1.4531 - accuracy: 0.4988 - val_loss: 0.9004 - val_accuracy: 0.6636\n",
      "Epoch 10/60\n",
      "53/53 [==============================] - 34s 644ms/step - loss: 1.3020 - accuracy: 0.5463 - val_loss: 0.7474 - val_accuracy: 0.7271\n",
      "Epoch 11/60\n",
      "53/53 [==============================] - 34s 643ms/step - loss: 1.1740 - accuracy: 0.5940 - val_loss: 0.6035 - val_accuracy: 0.7910\n",
      "Epoch 12/60\n",
      "53/53 [==============================] - 34s 639ms/step - loss: 1.0547 - accuracy: 0.6352 - val_loss: 0.6428 - val_accuracy: 0.7501\n",
      "Epoch 13/60\n",
      "53/53 [==============================] - 34s 648ms/step - loss: 0.9779 - accuracy: 0.6556 - val_loss: 0.4697 - val_accuracy: 0.8221\n",
      "Epoch 14/60\n",
      "53/53 [==============================] - 34s 642ms/step - loss: 0.8900 - accuracy: 0.6885 - val_loss: 0.4074 - val_accuracy: 0.8510\n",
      "Epoch 15/60\n",
      "53/53 [==============================] - 34s 646ms/step - loss: 0.8241 - accuracy: 0.7115 - val_loss: 0.3943 - val_accuracy: 0.8650\n",
      "Epoch 16/60\n",
      "53/53 [==============================] - 34s 649ms/step - loss: 0.7675 - accuracy: 0.7344 - val_loss: 0.3386 - val_accuracy: 0.8993\n",
      "Epoch 17/60\n",
      "53/53 [==============================] - 34s 641ms/step - loss: 0.7275 - accuracy: 0.7473 - val_loss: 0.3407 - val_accuracy: 0.8704\n",
      "Epoch 18/60\n",
      "53/53 [==============================] - 34s 644ms/step - loss: 0.6803 - accuracy: 0.7649 - val_loss: 0.2889 - val_accuracy: 0.9016\n",
      "Epoch 19/60\n",
      "53/53 [==============================] - 34s 643ms/step - loss: 0.6313 - accuracy: 0.7828 - val_loss: 0.2144 - val_accuracy: 0.9261\n",
      "Epoch 20/60\n",
      "53/53 [==============================] - 34s 643ms/step - loss: 0.6037 - accuracy: 0.7926 - val_loss: 0.1955 - val_accuracy: 0.9374\n",
      "Epoch 21/60\n",
      "53/53 [==============================] - 34s 647ms/step - loss: 0.5696 - accuracy: 0.8031 - val_loss: 0.1719 - val_accuracy: 0.9406\n",
      "Epoch 22/60\n",
      "53/53 [==============================] - 34s 644ms/step - loss: 0.5400 - accuracy: 0.8151 - val_loss: 0.1585 - val_accuracy: 0.9399\n",
      "Epoch 23/60\n",
      "53/53 [==============================] - 34s 644ms/step - loss: 0.5185 - accuracy: 0.8243 - val_loss: 0.1254 - val_accuracy: 0.9535\n",
      "Epoch 24/60\n",
      "53/53 [==============================] - 34s 643ms/step - loss: 0.4837 - accuracy: 0.8357 - val_loss: 0.1790 - val_accuracy: 0.9248\n",
      "Epoch 25/60\n",
      "53/53 [==============================] - 34s 644ms/step - loss: 0.4586 - accuracy: 0.8448 - val_loss: 0.1195 - val_accuracy: 0.9565\n",
      "Epoch 26/60\n",
      "53/53 [==============================] - 33s 619ms/step - loss: 0.4447 - accuracy: 0.8492 - val_loss: 0.0878 - val_accuracy: 0.9694\n",
      "Epoch 27/60\n",
      "53/53 [==============================] - 29s 554ms/step - loss: 0.4416 - accuracy: 0.8520 - val_loss: 0.0695 - val_accuracy: 0.9771\n",
      "Epoch 28/60\n",
      "53/53 [==============================] - 29s 547ms/step - loss: 0.4230 - accuracy: 0.8577 - val_loss: 0.0719 - val_accuracy: 0.9778\n",
      "Epoch 29/60\n",
      "53/53 [==============================] - 29s 547ms/step - loss: 0.3944 - accuracy: 0.8678 - val_loss: 0.0934 - val_accuracy: 0.9657\n",
      "Epoch 30/60\n",
      "53/53 [==============================] - 29s 551ms/step - loss: 0.3904 - accuracy: 0.8709 - val_loss: 0.0613 - val_accuracy: 0.9813\n",
      "Epoch 31/60\n",
      "53/53 [==============================] - 29s 551ms/step - loss: 0.3748 - accuracy: 0.8739 - val_loss: 0.0617 - val_accuracy: 0.9791\n",
      "Epoch 32/60\n",
      "53/53 [==============================] - 29s 549ms/step - loss: 0.3578 - accuracy: 0.8791 - val_loss: 0.0628 - val_accuracy: 0.9784\n",
      "Epoch 33/60\n",
      "53/53 [==============================] - 29s 556ms/step - loss: 0.3371 - accuracy: 0.8869 - val_loss: 0.0631 - val_accuracy: 0.9754\n",
      "Epoch 34/60\n",
      "53/53 [==============================] - 29s 549ms/step - loss: 0.3216 - accuracy: 0.8927 - val_loss: 0.0378 - val_accuracy: 0.9866\n",
      "Epoch 35/60\n",
      "53/53 [==============================] - 29s 548ms/step - loss: 0.3125 - accuracy: 0.8952 - val_loss: 0.0272 - val_accuracy: 0.9941\n",
      "Epoch 36/60\n",
      "53/53 [==============================] - 29s 552ms/step - loss: 0.3209 - accuracy: 0.8933 - val_loss: 0.0325 - val_accuracy: 0.9905\n",
      "Epoch 37/60\n",
      "53/53 [==============================] - 29s 554ms/step - loss: 0.3142 - accuracy: 0.8959 - val_loss: 0.0295 - val_accuracy: 0.9898\n",
      "Epoch 38/60\n",
      "53/53 [==============================] - 29s 552ms/step - loss: 0.2955 - accuracy: 0.9023 - val_loss: 0.0318 - val_accuracy: 0.9901\n",
      "Epoch 39/60\n",
      "53/53 [==============================] - 29s 554ms/step - loss: 0.2890 - accuracy: 0.9041 - val_loss: 0.0171 - val_accuracy: 0.9967\n",
      "Epoch 40/60\n",
      "53/53 [==============================] - 29s 549ms/step - loss: 0.2852 - accuracy: 0.9061 - val_loss: 0.0245 - val_accuracy: 0.9951\n",
      "Epoch 41/60\n",
      "53/53 [==============================] - 29s 547ms/step - loss: 0.2598 - accuracy: 0.9121 - val_loss: 0.0266 - val_accuracy: 0.9918\n",
      "Epoch 42/60\n",
      "53/53 [==============================] - 29s 553ms/step - loss: 0.2752 - accuracy: 0.9102 - val_loss: 0.0288 - val_accuracy: 0.9916\n",
      "Epoch 43/60\n",
      "53/53 [==============================] - 29s 546ms/step - loss: 0.2617 - accuracy: 0.9126 - val_loss: 0.0385 - val_accuracy: 0.9854\n",
      "Epoch 44/60\n",
      "53/53 [==============================] - 29s 549ms/step - loss: 0.2487 - accuracy: 0.9183 - val_loss: 0.0211 - val_accuracy: 0.9926\n",
      "Epoch 45/60\n",
      "53/53 [==============================] - 29s 549ms/step - loss: 0.2478 - accuracy: 0.9184 - val_loss: 0.0440 - val_accuracy: 0.9826\n",
      "Epoch 46/60\n",
      "53/53 [==============================] - 33s 620ms/step - loss: 0.2400 - accuracy: 0.9216 - val_loss: 0.0142 - val_accuracy: 0.9965\n",
      "Epoch 47/60\n",
      "53/53 [==============================] - 34s 644ms/step - loss: 0.2446 - accuracy: 0.9214 - val_loss: 0.0193 - val_accuracy: 0.9951\n",
      "Epoch 48/60\n",
      "53/53 [==============================] - 34s 642ms/step - loss: 0.2279 - accuracy: 0.9260 - val_loss: 0.0177 - val_accuracy: 0.9958\n",
      "Epoch 49/60\n",
      "53/53 [==============================] - 34s 641ms/step - loss: 0.2336 - accuracy: 0.9244 - val_loss: 0.0308 - val_accuracy: 0.9901\n",
      "Epoch 50/60\n",
      "53/53 [==============================] - 34s 642ms/step - loss: 0.2234 - accuracy: 0.9272 - val_loss: 0.0155 - val_accuracy: 0.9960\n",
      "Epoch 51/60\n",
      "53/53 [==============================] - 34s 641ms/step - loss: 0.2141 - accuracy: 0.9309 - val_loss: 0.0151 - val_accuracy: 0.9961\n",
      "Epoch 52/60\n",
      "53/53 [==============================] - 34s 644ms/step - loss: 0.2219 - accuracy: 0.9286 - val_loss: 0.0189 - val_accuracy: 0.9939\n",
      "Epoch 53/60\n",
      "53/53 [==============================] - 34s 649ms/step - loss: 0.2324 - accuracy: 0.9250 - val_loss: 0.0112 - val_accuracy: 0.9980\n",
      "Epoch 54/60\n",
      "53/53 [==============================] - 34s 645ms/step - loss: 0.2078 - accuracy: 0.9348 - val_loss: 0.0125 - val_accuracy: 0.9957\n",
      "Epoch 55/60\n",
      "53/53 [==============================] - 34s 645ms/step - loss: 0.2044 - accuracy: 0.9351 - val_loss: 0.0141 - val_accuracy: 0.9951\n",
      "Epoch 56/60\n",
      "53/53 [==============================] - 34s 644ms/step - loss: 0.1965 - accuracy: 0.9363 - val_loss: 0.0088 - val_accuracy: 0.9969\n",
      "Epoch 57/60\n",
      "53/53 [==============================] - 34s 641ms/step - loss: 0.2087 - accuracy: 0.9317 - val_loss: 0.0119 - val_accuracy: 0.9960\n"
     ]
    },
    {
     "name": "stdout",
     "output_type": "stream",
     "text": [
      "Epoch 58/60\n",
      "53/53 [==============================] - 35s 653ms/step - loss: 0.1954 - accuracy: 0.9369 - val_loss: 0.0215 - val_accuracy: 0.9920\n",
      "Epoch 59/60\n",
      "53/53 [==============================] - 35s 659ms/step - loss: 0.1913 - accuracy: 0.9378 - val_loss: 0.0189 - val_accuracy: 0.9936\n",
      "Epoch 60/60\n",
      "53/53 [==============================] - 35s 666ms/step - loss: 0.1874 - accuracy: 0.9402 - val_loss: 0.0101 - val_accuracy: 0.9979\n"
     ]
    }
   ],
   "source": [
    "#\n",
    "#\n",
    "model1 = cnn_model.fit(train_generator,\n",
    "                    validation_data = validation_generator,\n",
    "                    steps_per_epoch = nb_train_samples//batch_size,\n",
    "                    epochs = epochs,\n",
    "                    validation_steps = nb_validation_samples//batch_size)"
   ]
  },
  {
   "cell_type": "code",
   "execution_count": 93,
   "metadata": {
    "id": "yR7Q2K98irY7"
   },
   "outputs": [
    {
     "data": {
      "text/plain": [
       "Text(0.5, 1.0, 'Accuracy evolution')"
      ]
     },
     "execution_count": 93,
     "metadata": {},
     "output_type": "execute_result"
    },
    {
     "data": {
      "image/png": "[encoded data removed]",
      "text/plain": [
       "<Figure size 864x576 with 2 Axes>"
      ]
     },
     "metadata": {
      "needs_background": "light"
     },
     "output_type": "display_data"
    }
   ],
   "source": [
    "plt.figure(figsize=(12, 8))\n",
    "\n",
    "plt.subplot(2, 2, 1)\n",
    "plt.plot(model1.history['loss'], label='Loss')\n",
    "plt.plot(model1.history['val_loss'], label='val_Loss')\n",
    "plt.legend()\n",
    "plt.grid()\n",
    "plt.title('Loss evolution')\n",
    "\n",
    "plt.subplot(2, 2, 2)\n",
    "plt.plot(model1.history['accuracy'], label='accuracy')\n",
    "plt.plot(model1.history['val_accuracy'], label='val_accuracy')\n",
    "plt.legend()\n",
    "plt.grid()\n",
    "plt.title('Accuracy evolution')"
   ]
  },
  {
   "cell_type": "code",
   "execution_count": null,
   "metadata": {},
   "outputs": [],
   "source": []
  },
  {
   "cell_type": "code",
   "execution_count": 100,
   "metadata": {},
   "outputs": [],
   "source": [
    "#to save the weights in the model as a HDF file\n",
    "\n",
    "cnn_model.save_weights('sign_detc1.h5')"
   ]
  },
  {
   "cell_type": "code",
   "execution_count": 101,
   "metadata": {},
   "outputs": [],
   "source": [
    "#to save the architecture of the model as a json file\n",
    "\n",
    "with open('sign_detc1.json','w') as f:\n",
    "    f.write(cnn_model.to_json())"
   ]
  },
  {
   "cell_type": "code",
   "execution_count": null,
   "metadata": {},
   "outputs": [],
   "source": []
  }
 ],
 "metadata": {
  "accelerator": "GPU",
  "colab": {
   "collapsed_sections": [],
   "name": "Untitled12.ipynb",
   "provenance": []
  },
  "kernelspec": {
   "display_name": "Python 3",
   "language": "python",
   "name": "python3"
  },
  "language_info": {
   "codemirror_mode": {
    "name": "ipython",
    "version": 3
   },
   "file_extension": ".py",
   "mimetype": "text/x-python",
   "name": "python",
   "nbconvert_exporter": "python",
   "pygments_lexer": "ipython3",
   "version": "3.8.8"
  }
 },
 "nbformat": 4,
 "nbformat_minor": 1
}
